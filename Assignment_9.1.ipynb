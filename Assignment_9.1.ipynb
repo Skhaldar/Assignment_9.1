{
 "cells": [
  {
   "cell_type": "code",
   "execution_count": 9,
   "metadata": {},
   "outputs": [
    {
     "name": "stdout",
     "output_type": "stream",
     "text": [
      "4\n"
     ]
    },
    {
     "data": {
      "text/plain": [
       "[1, 2, 0, 1, 2, 3, 4, 0, 1, 2]"
      ]
     },
     "execution_count": 9,
     "metadata": {},
     "output_type": "execute_result"
    }
   ],
   "source": [
    "import pandas as pd\n",
    "\n",
    "df = pd.DataFrame({'X': [7, 2, 0, 3, 4, 2, 5, 0, 3, 4]})\n",
    "\n",
    "#print(df)\n",
    "\n",
    "df_series = df['X']\n",
    "\n",
    "print(df_series.iloc[-1])\n",
    "\n",
    "target_series = pd.Series([])\n",
    "\n",
    "df = pd.Series([7, 2, 0, 3, 4, 2, 5, 0, 3, 4])\n",
    "\n",
    "(df.groupby(df.eq(0).cumsum().mask(df.eq(0))).cumcount() + 1).mask(df.eq(0), 0).tolist()"
   ]
  },
  {
   "cell_type": "code",
   "execution_count": 12,
   "metadata": {},
   "outputs": [
    {
     "name": "stdout",
     "output_type": "stream",
     "text": [
      "4\n",
      "0    7\n",
      "1    2\n",
      "2    0\n",
      "3    3\n",
      "4    4\n",
      "5    2\n",
      "6    5\n",
      "7    0\n",
      "8    3\n",
      "9    4\n",
      "Name: X, dtype: int64\n",
      "0    1.0\n",
      "1    2.0\n",
      "2    0.0\n",
      "3    1.0\n",
      "4    2.0\n",
      "5    3.0\n",
      "6    4.0\n",
      "7    0.0\n",
      "8    1.0\n",
      "9    2.0\n",
      "Name: Y, dtype: float64\n"
     ]
    }
   ],
   "source": [
    "import pandas as pd\n",
    "\n",
    "df = pd.DataFrame({'X': [7, 2, 0, 3, 4, 2, 5, 0, 3, 4]})\n",
    "\n",
    "#print(df)\n",
    "\n",
    "df_series = df['X']\n",
    "\n",
    "print(df_series.iloc[-1])\n",
    "print(df_series)\n",
    "x = (df['X'] != 0).cumsum()\n",
    "y = x != x.shift()\n",
    "df['Y'] = y.groupby((y != y.shift()).cumsum()).cumsum()\n",
    "print (df['Y'])"
   ]
  },
  {
   "cell_type": "code",
   "execution_count": 16,
   "metadata": {},
   "outputs": [],
   "source": [
    "# Let s be the variable identifying this Series\n",
    "# Create a DatetimeIndex that contains each business day of 2015 and use it to index a Series of random numbers. \n",
    "import pandas as pd\n",
    "import numpy as np\n",
    "dti = pd.date_range(start='2015-01-01', end='2015-12-31', freq='B') \n",
    "s = pd.Series(np.random.rand(len(dti)), index=dti)"
   ]
  },
  {
   "cell_type": "code",
   "execution_count": 22,
   "metadata": {},
   "outputs": [
    {
     "data": {
      "text/plain": [
       "27.444705518813997"
      ]
     },
     "execution_count": 22,
     "metadata": {},
     "output_type": "execute_result"
    }
   ],
   "source": [
    "# Find the sum of the values in s for every Wednesday.\n",
    "s[dti.weekday == 2].sum() "
   ]
  },
  {
   "cell_type": "code",
   "execution_count": 20,
   "metadata": {},
   "outputs": [
    {
     "name": "stderr",
     "output_type": "stream",
     "text": [
      "C:\\Users\\skhaldar\\Anaconda3\\lib\\site-packages\\ipykernel_launcher.py:2: FutureWarning: how in .resample() is deprecated\n",
      "the new syntax is .resample(...).mean()\n",
      "  \n"
     ]
    },
    {
     "data": {
      "text/plain": [
       "2015-01-31    0.457387\n",
       "2015-02-28    0.602992\n",
       "2015-03-31    0.573710\n",
       "2015-04-30    0.443248\n",
       "2015-05-31    0.419845\n",
       "2015-06-30    0.432506\n",
       "2015-07-31    0.481987\n",
       "2015-08-31    0.468420\n",
       "2015-09-30    0.601886\n",
       "2015-10-31    0.426701\n",
       "2015-11-30    0.524616\n",
       "2015-12-31    0.559029\n",
       "Freq: M, dtype: float64"
      ]
     },
     "execution_count": 20,
     "metadata": {},
     "output_type": "execute_result"
    }
   ],
   "source": [
    "# For each calendar month in s, find the mean of values.\n",
    "s.resample('M', how='mean')"
   ]
  },
  {
   "cell_type": "code",
   "execution_count": 23,
   "metadata": {},
   "outputs": [
    {
     "name": "stderr",
     "output_type": "stream",
     "text": [
      "C:\\Users\\skhaldar\\Anaconda3\\lib\\site-packages\\ipykernel_launcher.py:4: FutureWarning: pd.TimeGrouper is deprecated and will be removed; Please use pd.Grouper(freq=...)\n",
      "  after removing the cwd from sys.path.\n"
     ]
    },
    {
     "data": {
      "text/plain": [
       "2015-01-31   2015-01-29\n",
       "2015-05-31   2015-04-09\n",
       "2015-09-30   2015-09-23\n",
       "2016-01-31   2015-12-30\n",
       "dtype: datetime64[ns]"
      ]
     },
     "execution_count": 23,
     "metadata": {},
     "output_type": "execute_result"
    }
   ],
   "source": [
    "# For each group of four consecutive calendar months in s, find the date on which the highest value occurred.\n",
    "import pandas as pd\n",
    "import numpy as np\n",
    "s.groupby(pd.TimeGrouper('4M')).idxmax()"
   ]
  },
  {
   "cell_type": "code",
   "execution_count": null,
   "metadata": {},
   "outputs": [],
   "source": []
  }
 ],
 "metadata": {
  "kernelspec": {
   "display_name": "Python 3",
   "language": "python",
   "name": "python3"
  },
  "language_info": {
   "codemirror_mode": {
    "name": "ipython",
    "version": 3
   },
   "file_extension": ".py",
   "mimetype": "text/x-python",
   "name": "python",
   "nbconvert_exporter": "python",
   "pygments_lexer": "ipython3",
   "version": "3.6.4"
  }
 },
 "nbformat": 4,
 "nbformat_minor": 2
}
